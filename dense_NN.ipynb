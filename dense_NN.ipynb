{
 "cells": [
  {
   "cell_type": "markdown",
   "metadata": {},
   "source": [
    "# Model iteration\n",
    "\n",
    "Adding layers to original FSM"
   ]
  },
  {
   "cell_type": "code",
   "execution_count": 1,
   "metadata": {
    "ExecuteTime": {
     "end_time": "2021-10-13T21:16:57.499752Z",
     "start_time": "2021-10-13T21:16:51.864381Z"
    }
   },
   "outputs": [],
   "source": [
    "import os\n",
    "import numpy as np\n",
    "import keras\n",
    "from keras.preprocessing.image import ImageDataGenerator\n",
    "from keras import models\n",
    "from keras.layers import Dense, Flatten\n",
    "from functions import *\n",
    "\n",
    "%load_ext autoreload\n",
    "%autoreload 2"
   ]
  },
  {
   "cell_type": "markdown",
   "metadata": {},
   "source": [
    "## Load images for modeling\n",
    "\n",
    "Use `ImageDataGenerator` class from Keras with `flow_from_directory` method to feed images into the model.\n",
    "\n",
    "Keeping default parameters for now as far as `target_size=(256, 256)` and all that."
   ]
  },
  {
   "cell_type": "code",
   "execution_count": 2,
   "metadata": {
    "ExecuteTime": {
     "end_time": "2021-10-13T21:16:57.556415Z",
     "start_time": "2021-10-13T21:16:57.501990Z"
    }
   },
   "outputs": [],
   "source": [
    "# Image folder for training\n",
    "train_dir = 'input_images/train'"
   ]
  },
  {
   "cell_type": "code",
   "execution_count": 3,
   "metadata": {
    "ExecuteTime": {
     "end_time": "2021-10-13T21:16:57.821518Z",
     "start_time": "2021-10-13T21:16:57.559230Z"
    }
   },
   "outputs": [],
   "source": [
    "# Delete metadata files created by Mac OS\n",
    "!find . -name \".DS_Store\" -delete"
   ]
  },
  {
   "cell_type": "code",
   "execution_count": 4,
   "metadata": {
    "ExecuteTime": {
     "end_time": "2021-10-13T21:16:59.553381Z",
     "start_time": "2021-10-13T21:16:59.386271Z"
    }
   },
   "outputs": [
    {
     "name": "stdout",
     "output_type": "stream",
     "text": [
      "Found 1009 images belonging to 2 classes.\n",
      "Found 252 images belonging to 2 classes.\n"
     ]
    }
   ],
   "source": [
    "# Get data from directories and scale\n",
    "datagen = ImageDataGenerator(rescale=1./255, validation_split=0.2)\n",
    "\n",
    "train_gen = datagen.flow_from_directory(train_dir, subset='training', class_mode='binary')\n",
    "val_gen = datagen.flow_from_directory(train_dir, subset='validation', class_mode='binary', shuffle=False)"
   ]
  },
  {
   "cell_type": "markdown",
   "metadata": {},
   "source": [
    "## Build model and train"
   ]
  },
  {
   "cell_type": "code",
   "execution_count": 5,
   "metadata": {
    "ExecuteTime": {
     "end_time": "2021-10-13T21:17:01.742839Z",
     "start_time": "2021-10-13T21:17:00.746833Z"
    }
   },
   "outputs": [],
   "source": [
    "# Instatiate model\n",
    "nn_model_1 = models.Sequential()\n",
    "\n",
    "# Add model layers\n",
    "nn_model_1.add(Flatten(input_shape=(256, 256, 3)))\n",
    "nn_model_1.add(Dense(512, activation='relu'))\n",
    "nn_model_1.add(Dense(64, activation='relu'))\n",
    "nn_model_1.add(Dense(32, activation='relu'))\n",
    "nn_model_1.add(Dense(12, activation='relu'))\n",
    "nn_model_1.add(Dense(1, activation='sigmoid'))\n",
    "\n",
    "# Compile\n",
    "nn_model_1.compile(optimizer='sgd',\n",
    "                   loss='binary_crossentropy',\n",
    "                   metrics=['acc', 'Recall', 'Precision'])"
   ]
  },
  {
   "cell_type": "code",
   "execution_count": null,
   "metadata": {
    "ExecuteTime": {
     "start_time": "2021-10-13T21:17:25.576Z"
    },
    "scrolled": false
   },
   "outputs": [
    {
     "name": "stdout",
     "output_type": "stream",
     "text": [
      "Epoch 1/20\n",
      "32/32 [==============================] - 127s 4s/step - loss: 0.7375 - acc: 0.5253 - recall: 0.4990 - precision: 0.5314 - val_loss: 0.6772 - val_acc: 0.6587 - val_recall: 0.7795 - val_precision: 0.6306\n",
      "Epoch 2/20\n",
      "32/32 [==============================] - 122s 4s/step - loss: 0.6707 - acc: 0.5937 - recall: 0.5088 - precision: 0.6181 - val_loss: 0.6485 - val_acc: 0.6667 - val_recall: 0.5512 - val_precision: 0.7216\n",
      "Epoch 3/20\n",
      "32/32 [==============================] - 122s 4s/step - loss: 0.6267 - acc: 0.6511 - recall: 0.6208 - precision: 0.6653 - val_loss: 0.6489 - val_acc: 0.5952 - val_recall: 0.2756 - val_precision: 0.7778\n",
      "Epoch 4/20\n",
      "32/32 [==============================] - 123s 4s/step - loss: 0.6377 - acc: 0.6194 - recall: 0.5128 - precision: 0.6574 - val_loss: 0.6108 - val_acc: 0.6667 - val_recall: 0.4567 - val_precision: 0.7945\n",
      "Epoch 5/20\n",
      "32/32 [==============================] - 123s 4s/step - loss: 0.6008 - acc: 0.6581 - recall: 0.5560 - precision: 0.7040 - val_loss: 0.6996 - val_acc: 0.5992 - val_recall: 0.9528 - val_precision: 0.5602\n",
      "Epoch 6/20\n",
      "32/32 [==============================] - 124s 4s/step - loss: 0.5997 - acc: 0.6749 - recall: 0.5756 - precision: 0.7235 - val_loss: 0.5797 - val_acc: 0.7143 - val_recall: 0.5748 - val_precision: 0.8022\n",
      "Epoch 7/20\n",
      "32/32 [==============================] - 139s 4s/step - loss: 0.5779 - acc: 0.6947 - recall: 0.5953 - precision: 0.7481 - val_loss: 0.6084 - val_acc: 0.6627 - val_recall: 0.9134 - val_precision: 0.6105\n",
      "Epoch 8/20\n",
      "32/32 [==============================] - 154s 5s/step - loss: 0.5624 - acc: 0.7037 - recall: 0.6130 - precision: 0.7536 - val_loss: 0.5856 - val_acc: 0.6667 - val_recall: 0.4331 - val_precision: 0.8209\n",
      "Epoch 9/20\n",
      "32/32 [==============================] - 162s 5s/step - loss: 0.5411 - acc: 0.7205 - recall: 0.6424 - precision: 0.7658 - val_loss: 0.5704 - val_acc: 0.6944 - val_recall: 0.4803 - val_precision: 0.8472\n",
      "Epoch 10/20\n",
      "32/32 [==============================] - 141s 4s/step - loss: 0.5434 - acc: 0.7314 - recall: 0.6405 - precision: 0.7874 - val_loss: 0.6626 - val_acc: 0.6706 - val_recall: 0.9449 - val_precision: 0.6122\n",
      "Epoch 11/20\n",
      "32/32 [==============================] - 144s 4s/step - loss: 0.5401 - acc: 0.7334 - recall: 0.6424 - precision: 0.7899 - val_loss: 0.5235 - val_acc: 0.7302 - val_recall: 0.6614 - val_precision: 0.7706\n",
      "Epoch 12/20\n",
      "32/32 [==============================] - 166s 5s/step - loss: 0.5214 - acc: 0.7275 - recall: 0.6248 - precision: 0.7910 - val_loss: 0.7694 - val_acc: 0.5873 - val_recall: 0.1890 - val_precision: 0.9600\n",
      "Epoch 13/20\n",
      "32/32 [==============================] - 158s 5s/step - loss: 0.5418 - acc: 0.7334 - recall: 0.6051 - precision: 0.8191 - val_loss: 0.5302 - val_acc: 0.7262 - val_recall: 0.6142 - val_precision: 0.7959\n",
      "Epoch 14/20\n",
      "32/32 [==============================] - 144s 4s/step - loss: 0.5225 - acc: 0.7364 - recall: 0.6503 - precision: 0.7900 - val_loss: 0.5175 - val_acc: 0.7381 - val_recall: 0.6535 - val_precision: 0.7905\n",
      "Epoch 15/20\n",
      "32/32 [==============================] - 148s 5s/step - loss: 0.5032 - acc: 0.7393 - recall: 0.6464 - precision: 0.7985 - val_loss: 0.6317 - val_acc: 0.6746 - val_recall: 0.9449 - val_precision: 0.6154\n",
      "Epoch 16/20\n",
      "32/32 [==============================] - 125s 4s/step - loss: 0.4910 - acc: 0.7572 - recall: 0.6680 - precision: 0.8173 - val_loss: 1.2419 - val_acc: 0.5159 - val_recall: 0.9921 - val_precision: 0.5101\n",
      "Epoch 17/20\n",
      "10/32 [========>.....................] - ETA: 1:10 - loss: 0.5569 - acc: 0.7148 - recall: 0.6056 - precision: 0.7350"
     ]
    }
   ],
   "source": [
    "nn_model_1_history = nn_model_1.fit(train_gen, \n",
    "                                    epochs=20,\n",
    "                                    validation_data=val_gen)"
   ]
  },
  {
   "cell_type": "code",
   "execution_count": null,
   "metadata": {
    "ExecuteTime": {
     "start_time": "2021-10-13T21:29:45.883Z"
    }
   },
   "outputs": [],
   "source": [
    "nn_model_1.save('models/nn_model_1.h5')"
   ]
  },
  {
   "cell_type": "code",
   "execution_count": null,
   "metadata": {
    "ExecuteTime": {
     "start_time": "2021-10-13T21:42:11.537Z"
    }
   },
   "outputs": [],
   "source": [
    "visualize_results(nn_model_1_history, nn_model_1, train_gen, val_gen)"
   ]
  },
  {
   "cell_type": "code",
   "execution_count": null,
   "metadata": {},
   "outputs": [],
   "source": []
  }
 ],
 "metadata": {
  "kernelspec": {
   "display_name": "Python 3",
   "language": "python",
   "name": "python3"
  },
  "language_info": {
   "codemirror_mode": {
    "name": "ipython",
    "version": 3
   },
   "file_extension": ".py",
   "mimetype": "text/x-python",
   "name": "python",
   "nbconvert_exporter": "python",
   "pygments_lexer": "ipython3",
   "version": "3.8.5"
  }
 },
 "nbformat": 4,
 "nbformat_minor": 4
}
