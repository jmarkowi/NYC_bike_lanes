{
 "cells": [
  {
   "cell_type": "markdown",
   "metadata": {},
   "source": [
    "# Using VGG-16 as a base model for transfer learning\n",
    "\n",
    "Now that I've trained a simple model using VGG-16 as a base, using only one Dense layer before output, I'd like to iterate on it to see how I can improve it. I'll be doing the same for InceptionV3 and comparing the two in order to make a final decision for my best model."
   ]
  },
  {
   "cell_type": "code",
   "execution_count": 2,
   "metadata": {
    "ExecuteTime": {
     "end_time": "2021-10-19T16:35:55.422745Z",
     "start_time": "2021-10-19T16:35:48.387157Z"
    }
   },
   "outputs": [],
   "source": [
    "import matplotlib.pyplot as plt\n",
    "import keras\n",
    "from keras.preprocessing.image import ImageDataGenerator\n",
    "from keras import models\n",
    "from keras.layers import Dense, Flatten, Dropout\n",
    "from keras.applications.vgg16 import VGG16\n",
    "from pickle import dump\n",
    "\n",
    "from functions import *\n",
    "\n",
    "%load_ext autoreload\n",
    "%autoreload 2"
   ]
  },
  {
   "cell_type": "markdown",
   "metadata": {},
   "source": [
    "### Load data"
   ]
  },
  {
   "cell_type": "code",
   "execution_count": 7,
   "metadata": {
    "ExecuteTime": {
     "end_time": "2021-10-19T17:47:18.358002Z",
     "start_time": "2021-10-19T17:47:18.036084Z"
    }
   },
   "outputs": [],
   "source": [
    "# Image folder for training\n",
    "train_dir = 'input_images/full_combined'\n",
    "val_dir = 'input_images/validation'\n",
    "\n",
    "# Delete metadata files created by Mac OS\n",
    "!find . -name \".DS_Store\" -delete"
   ]
  },
  {
   "cell_type": "code",
   "execution_count": 9,
   "metadata": {
    "ExecuteTime": {
     "end_time": "2021-10-19T17:47:24.712862Z",
     "start_time": "2021-10-19T17:47:24.564578Z"
    }
   },
   "outputs": [
    {
     "name": "stdout",
     "output_type": "stream",
     "text": [
      "Found 1619 images belonging to 2 classes.\n",
      "Found 100 images belonging to 2 classes.\n"
     ]
    }
   ],
   "source": [
    "# Make generators -- NOW USING SEPARATE VALIDATION SET/FOLDER (see split-folders.ipynb for details)\n",
    "train_datagen = ImageDataGenerator(rescale=1./255, \n",
    "                                   horizontal_flip=True,\n",
    "                                   rotation_range=20, \n",
    "                                   brightness_range=[0.5, 1.5], \n",
    "                                   zoom_range=.2)\n",
    "\n",
    "val_datagen = ImageDataGenerator(rescale=1./255)\n",
    "\n",
    "train_gen = train_datagen.flow_from_directory(train_dir, class_mode='binary')\n",
    "val_gen = val_datagen.flow_from_directory(val_dir, class_mode='binary', shuffle=False)"
   ]
  },
  {
   "cell_type": "markdown",
   "metadata": {},
   "source": [
    "### Instantiate base model\n",
    "\n",
    "I'll use the VGG-16 model without its original Dense layers for feature extraction. I'll then add my own Dense layers and sigmoid activation output."
   ]
  },
  {
   "cell_type": "code",
   "execution_count": 10,
   "metadata": {
    "ExecuteTime": {
     "end_time": "2021-10-19T17:47:30.220176Z",
     "start_time": "2021-10-19T17:47:29.660983Z"
    }
   },
   "outputs": [
    {
     "name": "stdout",
     "output_type": "stream",
     "text": [
      "Model: \"vgg16\"\n",
      "_________________________________________________________________\n",
      "Layer (type)                 Output Shape              Param #   \n",
      "=================================================================\n",
      "input_1 (InputLayer)         [(None, 256, 256, 3)]     0         \n",
      "_________________________________________________________________\n",
      "block1_conv1 (Conv2D)        (None, 256, 256, 64)      1792      \n",
      "_________________________________________________________________\n",
      "block1_conv2 (Conv2D)        (None, 256, 256, 64)      36928     \n",
      "_________________________________________________________________\n",
      "block1_pool (MaxPooling2D)   (None, 128, 128, 64)      0         \n",
      "_________________________________________________________________\n",
      "block2_conv1 (Conv2D)        (None, 128, 128, 128)     73856     \n",
      "_________________________________________________________________\n",
      "block2_conv2 (Conv2D)        (None, 128, 128, 128)     147584    \n",
      "_________________________________________________________________\n",
      "block2_pool (MaxPooling2D)   (None, 64, 64, 128)       0         \n",
      "_________________________________________________________________\n",
      "block3_conv1 (Conv2D)        (None, 64, 64, 256)       295168    \n",
      "_________________________________________________________________\n",
      "block3_conv2 (Conv2D)        (None, 64, 64, 256)       590080    \n",
      "_________________________________________________________________\n",
      "block3_conv3 (Conv2D)        (None, 64, 64, 256)       590080    \n",
      "_________________________________________________________________\n",
      "block3_pool (MaxPooling2D)   (None, 32, 32, 256)       0         \n",
      "_________________________________________________________________\n",
      "block4_conv1 (Conv2D)        (None, 32, 32, 512)       1180160   \n",
      "_________________________________________________________________\n",
      "block4_conv2 (Conv2D)        (None, 32, 32, 512)       2359808   \n",
      "_________________________________________________________________\n",
      "block4_conv3 (Conv2D)        (None, 32, 32, 512)       2359808   \n",
      "_________________________________________________________________\n",
      "block4_pool (MaxPooling2D)   (None, 16, 16, 512)       0         \n",
      "_________________________________________________________________\n",
      "block5_conv1 (Conv2D)        (None, 16, 16, 512)       2359808   \n",
      "_________________________________________________________________\n",
      "block5_conv2 (Conv2D)        (None, 16, 16, 512)       2359808   \n",
      "_________________________________________________________________\n",
      "block5_conv3 (Conv2D)        (None, 16, 16, 512)       2359808   \n",
      "_________________________________________________________________\n",
      "block5_pool (MaxPooling2D)   (None, 8, 8, 512)         0         \n",
      "=================================================================\n",
      "Total params: 14,714,688\n",
      "Trainable params: 0\n",
      "Non-trainable params: 14,714,688\n",
      "_________________________________________________________________\n"
     ]
    }
   ],
   "source": [
    "# Get base model\n",
    "vgg_base_model = VGG16(weights='imagenet', \n",
    "                       include_top=False,\n",
    "                       input_shape=(256, 256, 3))\n",
    "\n",
    "# Freeze layers\n",
    "for layer in vgg_base_model.layers:\n",
    "    layer.trainable = False\n",
    "    \n",
    "# Check architecture\n",
    "vgg_base_model.summary()"
   ]
  },
  {
   "cell_type": "markdown",
   "metadata": {},
   "source": [
    "## Iterations\n",
    "\n",
    "Before, I simply added one Dense(512) layer on top of the base architecture. The original architecture of VGG-16 has 3 fully dense layers with 4096 nodes, generating predictions for 1000 classes w/Softmax activation. I'll be stepping that way down, plus only generating binary predictions with sigmoid activation.\n",
    "\n",
    "I'll use `train_gen` and `val_gen` as defined above, but also bump up the number of epochs to 30 since it seemed like there was still room for improvement."
   ]
  },
  {
   "cell_type": "markdown",
   "metadata": {},
   "source": [
    "### Top with 2 Dense(512) layers "
   ]
  },
  {
   "cell_type": "code",
   "execution_count": 12,
   "metadata": {
    "ExecuteTime": {
     "end_time": "2021-10-19T17:55:31.311510Z",
     "start_time": "2021-10-19T17:55:31.098812Z"
    }
   },
   "outputs": [],
   "source": [
    "# Instantiate model\n",
    "vgg_1 = models.Sequential()\n",
    "\n",
    "# Add base model\n",
    "vgg_1.add(vgg_base_model)\n",
    "\n",
    "# Flatten the output layer to 1 dimension\n",
    "vgg_1.add(Flatten())\n",
    "\n",
    "# Add 2 fully connected layers with 512 hidden units and ReLU activation\n",
    "vgg_1.add(Dense(512, activation='relu'))\n",
    "vgg_1.add(Dense(512, activation='relu'))\n",
    "\n",
    "# Add a final sigmoid layer with 1 node for classification output\n",
    "vgg_1.add(Dense(1, activation='sigmoid'))\n",
    "\n",
    "# Compile\n",
    "vgg_1.compile(optimizer='adam', \n",
    "              loss='binary_crossentropy', \n",
    "              metrics=['acc', 'Recall', 'Precision'])"
   ]
  },
  {
   "cell_type": "code",
   "execution_count": null,
   "metadata": {
    "ExecuteTime": {
     "start_time": "2021-10-19T17:55:31.968Z"
    }
   },
   "outputs": [
    {
     "name": "stdout",
     "output_type": "stream",
     "text": [
      "Epoch 1/30\n",
      "51/51 [==============================] - 329s 6s/step - loss: 1.0882 - acc: 0.7023 - recall: 0.7133 - precision: 0.7081 - val_loss: 0.3027 - val_acc: 0.8700 - val_recall: 0.7400 - val_precision: 1.0000\n",
      "Epoch 2/30\n",
      "51/51 [==============================] - 319s 6s/step - loss: 0.3570 - acc: 0.8382 - recall: 0.8193 - precision: 0.8586 - val_loss: 0.2465 - val_acc: 0.8900 - val_recall: 0.9000 - val_precision: 0.8824\n",
      "Epoch 3/30\n",
      "51/51 [==============================] - 313s 6s/step - loss: 0.3487 - acc: 0.8474 - recall: 0.8325 - precision: 0.8648 - val_loss: 0.2148 - val_acc: 0.9100 - val_recall: 0.9000 - val_precision: 0.9184\n",
      "Epoch 4/30\n",
      "13/51 [======>.......................] - ETA: 3:27 - loss: 0.3212 - acc: 0.8462 - recall: 0.8614 - precision: 0.8365"
     ]
    }
   ],
   "source": [
    "# Train the model\n",
    "vgg_1_history = vgg_1.fit(train_gen,\n",
    "                          epochs=30,\n",
    "                          validation_data=val_gen)"
   ]
  },
  {
   "cell_type": "code",
   "execution_count": null,
   "metadata": {
    "ExecuteTime": {
     "start_time": "2021-10-19T17:59:06.049Z"
    }
   },
   "outputs": [],
   "source": [
    "vgg_1.save('models/vgg_1.h5')"
   ]
  },
  {
   "cell_type": "code",
   "execution_count": null,
   "metadata": {
    "ExecuteTime": {
     "start_time": "2021-10-19T18:00:16.942Z"
    }
   },
   "outputs": [],
   "source": [
    "visualize_results(vgg_1_history, vgg_1, train_gen, val_gen)"
   ]
  },
  {
   "cell_type": "code",
   "execution_count": null,
   "metadata": {
    "ExecuteTime": {
     "start_time": "2021-10-19T18:00:42.085Z"
    }
   },
   "outputs": [],
   "source": [
    "dump(vgg_1_history.history, open('models/vgg_1_history.pkl', 'wb'))"
   ]
  },
  {
   "cell_type": "markdown",
   "metadata": {},
   "source": [
    "### 2 Dense layers and aggressive (0.5) Dropout to avoid overfitting"
   ]
  },
  {
   "cell_type": "code",
   "execution_count": null,
   "metadata": {
    "ExecuteTime": {
     "start_time": "2021-10-19T18:10:15.130Z"
    }
   },
   "outputs": [],
   "source": [
    "# Instantiate model\n",
    "vgg_2 = models.Sequential()\n",
    "\n",
    "# Add base model\n",
    "vgg_2.add(vgg_base_model)\n",
    "\n",
    "# Flatten the output layer to 1 dimension\n",
    "vgg_2.add(Flatten())\n",
    "\n",
    "# Add 2 fully connected layers with 512 hidden units and ReLU activation,\n",
    "# plus Dropout layers\n",
    "vgg_2.add(Dense(512, activation='relu'))\n",
    "vgg_2.add(Dropout(0.5))\n",
    "vgg_2.add(Dense(512, activation='relu'))\n",
    "vgg_2.add(Dropout(0.5))\n",
    "\n",
    "# Add a final sigmoid layer with 1 node for classification output\n",
    "vgg_2.add(Dense(1, activation='sigmoid'))\n",
    "\n",
    "# Compile\n",
    "vgg_2.compile(optimizer='adam', \n",
    "              loss='binary_crossentropy', \n",
    "              metrics=['acc', 'Recall', 'Precision'])"
   ]
  },
  {
   "cell_type": "code",
   "execution_count": null,
   "metadata": {
    "ExecuteTime": {
     "start_time": "2021-10-19T18:11:11.599Z"
    }
   },
   "outputs": [],
   "source": [
    "# Train the model\n",
    "vgg_2_history = vgg_2.fit(train_gen,\n",
    "                          epochs=30,\n",
    "                          validation_data=val_gen)"
   ]
  },
  {
   "cell_type": "code",
   "execution_count": null,
   "metadata": {
    "ExecuteTime": {
     "start_time": "2021-10-19T18:11:28.022Z"
    }
   },
   "outputs": [],
   "source": [
    "vgg_2.save('models/vgg_2.h5')"
   ]
  },
  {
   "cell_type": "code",
   "execution_count": null,
   "metadata": {
    "ExecuteTime": {
     "start_time": "2021-10-19T18:11:36.614Z"
    }
   },
   "outputs": [],
   "source": [
    "visualize_results(vgg_2_history, vgg_2, train_gen, val_gen)"
   ]
  },
  {
   "cell_type": "code",
   "execution_count": null,
   "metadata": {
    "ExecuteTime": {
     "start_time": "2021-10-19T18:11:48.285Z"
    }
   },
   "outputs": [],
   "source": [
    "dump(vgg_2_history.history, open('models/vgg_2_history.pkl', 'wb'))"
   ]
  },
  {
   "cell_type": "markdown",
   "metadata": {},
   "source": [
    "### More Dense layers with decreasing number of nodes"
   ]
  },
  {
   "cell_type": "code",
   "execution_count": null,
   "metadata": {},
   "outputs": [],
   "source": [
    "# Instantiate model\n",
    "vgg_3 = models.Sequential()\n",
    "\n",
    "# Add base model\n",
    "vgg_3.add(vgg_base_model)\n",
    "\n",
    "# Flatten the output layer to 1 dimension\n",
    "vgg_3.add(Flatten())\n",
    "\n",
    "# Add 2 fully connected layers with 512 hidden units and ReLU activation,\n",
    "# plus Dropout layers\n",
    "vgg_3.add(Dense(512, activation='relu'))\n",
    "vgg_3.add(Dense(128, activation='relu'))\n",
    "vgg_3.add(Dense(64, activation='relu'))\n",
    "\n",
    "\n",
    "# Add a final sigmoid layer with 1 node for classification output\n",
    "vgg_3.add(Dense(1, activation='sigmoid'))\n",
    "\n",
    "# Compile\n",
    "vgg_3.compile(optimizer='adam', \n",
    "              loss='binary_crossentropy', \n",
    "              metrics=['acc', 'Recall', 'Precision'])"
   ]
  }
 ],
 "metadata": {
  "kernelspec": {
   "display_name": "Python 3",
   "language": "python",
   "name": "python3"
  },
  "language_info": {
   "codemirror_mode": {
    "name": "ipython",
    "version": 3
   },
   "file_extension": ".py",
   "mimetype": "text/x-python",
   "name": "python",
   "nbconvert_exporter": "python",
   "pygments_lexer": "ipython3",
   "version": "3.8.5"
  }
 },
 "nbformat": 4,
 "nbformat_minor": 4
}
