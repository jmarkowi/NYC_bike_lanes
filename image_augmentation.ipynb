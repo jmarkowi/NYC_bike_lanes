{
 "cells": [
  {
   "cell_type": "markdown",
   "metadata": {},
   "source": [
    "# Image Augmentation"
   ]
  },
  {
   "cell_type": "markdown",
   "metadata": {},
   "source": [
    "Image augmentation involves altering images that are fed into the neural network model. There are several options, such as mirroring an image (\"horizontal flip\"), shifting, zooming, brightening/darkening, rotating, normalizing, etc. The goal of all of this is to alter images in ways that the model might realistically see \"in the wild\" and artificially increase the size of the dataset.\n",
    "\n",
    "In this notebook, I'll experiment with different image augmentation options and strategies, visualizing and saving the resulting images for later reference. The results of this experimentation will be used in further model iterations in other notebooks."
   ]
  },
  {
   "cell_type": "markdown",
   "metadata": {},
   "source": [
    "## Keras `ImageDataGenerator` parameters\n",
    "\n",
    "I'll start by using the parameters and options native to Keras in the class I'm already using."
   ]
  },
  {
   "cell_type": "code",
   "execution_count": null,
   "metadata": {},
   "outputs": [],
   "source": [
    "import keras\n",
    "from keras.preprocessing.image import load_img\n",
    "from keras.preprocessing.image import img_to_array\n",
    "from keras.preprocessing.image import ImageDataGenerator\n",
    "import matplotlib.pyplot as plt\n",
    "import matplotlib.image as "
   ]
  }
 ],
 "metadata": {
  "kernelspec": {
   "display_name": "Python 3",
   "language": "python",
   "name": "python3"
  },
  "language_info": {
   "codemirror_mode": {
    "name": "ipython",
    "version": 3
   },
   "file_extension": ".py",
   "mimetype": "text/x-python",
   "name": "python",
   "nbconvert_exporter": "python",
   "pygments_lexer": "ipython3",
   "version": "3.8.5"
  }
 },
 "nbformat": 4,
 "nbformat_minor": 4
}
